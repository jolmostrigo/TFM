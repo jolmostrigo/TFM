{
 "cells": [
  {
   "cell_type": "markdown",
   "id": "c3ca264f",
   "metadata": {},
   "source": [
    "# Esta Unidad Didáctica pertenece al Bloque 4: Fuerzas y Cambios\n",
    "\n",
    "## En los siguientes ejercicos, vamos a trabajar los conceptos de fuerza y gravedad de forma interactiva. \n",
    "\n",
    "### Antes de comenzar, introduce tu nombre y qué día es hoy en la siguiente celda de Python interactiva. Para ello, recuerda ejecutar la celda con el botón _Run_ de arriba."
   ]
  },
  {
   "cell_type": "code",
   "execution_count": null,
   "id": "a3fec2cf",
   "metadata": {},
   "outputs": [],
   "source": [
    "nombre = input('¿Quién eres?: ')\n",
    "dia = input('¿Qué día es hoy?: ')"
   ]
  },
  {
   "cell_type": "markdown",
   "id": "561c3e73",
   "metadata": {},
   "source": [
    "## Primer ejercicio\n",
    "\n",
    "¿Por qué flotamos en la Luna?\n",
    "\n",
    "La gravedad afecta de diferente manera a cada objeto dependiendo de su masa. En este ejercicio, vamos a calcular la fuerza exacta con la que la Tierra o la Luna atraerían a diferentes animales según su masa.\n",
    "\n",
    "El peso es la medida de la fuerza gravitatoria que actúa sobre un objeto. Su fórmula es:\n",
    "\n",
    "$F = mg$\n",
    "\n",
    "Con las siguientes funciones definimos los pesos dependiendo del valor de la gravedad en\n",
    "donde se encuentren, en estos ejemplos, la Tierra o en la Luna. \n",
    "\n",
    "Utilizamos el valor de la gravedad terrestre en la primera función, $g_T = 9.8$ m/s², y la de la Luna en el segundo, $g_L = 1.62$ m/s².\n",
    "\n",
    "La gravedad al ser una aceleración, se mide en unidades de espacio partido por tiempo al cuadraro. Asumimos que esa aceleración es negativa por convenio, dado que los cuerpos caen hacia abajo, es decir, en sentido negativo.\n",
    "\n",
    "El peso de cualquier cuerpo, al ser una fuerza, se mide en Newtons."
   ]
  },
  {
   "cell_type": "code",
   "execution_count": 1,
   "id": "fd331623",
   "metadata": {},
   "outputs": [],
   "source": [
    "def peso_terrestre(masa):\n",
    "    gravedad_terrestre = -9.8  # m/s²\n",
    "    peso = masa*gravedad  # N\n",
    "    return peso\n",
    "\n",
    "def peso_lunar(masa):\n",
    "    gravedad_lunar = -1.62  # m/s²\n",
    "    peso = masa*gravedad  # N\n",
    "    return peso"
   ]
  },
  {
   "cell_type": "markdown",
   "id": "4aacc34b",
   "metadata": {},
   "source": [
    "Primero, vamos a comprobar el caso de una hormiga, un perro y una ballena azul en la Tierra. \n",
    "\n",
    "Para ello, utiliza la función de peso correspondiente, introduciendo la masa aproximada en kg de los animales y\n",
    "usa una función _print_ para mostrar el resultado en la siguiente celda."
   ]
  },
  {
   "cell_type": "code",
   "execution_count": 2,
   "id": "588543a5",
   "metadata": {},
   "outputs": [],
   "source": [
    "#  Escribe aquí tu código"
   ]
  },
  {
   "cell_type": "markdown",
   "id": "ee37b84a",
   "metadata": {},
   "source": [
    "Ahora, vamos a comparar esos resultados con los que obtendríamos en la Luna. \n",
    "\n",
    "Para ello, utiliza la función de peso correspondiente, introduciendo la masa aproximada en kg de los animales y\n",
    "usa una función _print_ para mostrar el resultado en la siguiente celda."
   ]
  },
  {
   "cell_type": "code",
   "execution_count": 3,
   "id": "c491dbc4",
   "metadata": {},
   "outputs": [],
   "source": [
    "#  Escribe aquí tu código"
   ]
  },
  {
   "cell_type": "markdown",
   "id": "ad7bb000",
   "metadata": {},
   "source": [
    "Saca ahora tus propias conclusiones, ¿por qué los astronautas flotan en la Luna?"
   ]
  },
  {
   "cell_type": "markdown",
   "id": "fe1dc5ee",
   "metadata": {},
   "source": [
    "---- _Pincha en esta celda y escribe aquí tu respuesta_ ----"
   ]
  },
  {
   "cell_type": "markdown",
   "id": "e45efb11",
   "metadata": {},
   "source": [
    "## Segundo ejercicio\n",
    "\n",
    "Además de la fuerza de gravedad, existen muchos otros tipos de fuerzas. En nuestro día a día, por ejemplo, tenemos la fuerza motora del coche, que es la fuerza que hace que nuestro coche pase de una velocidad a otra cuando apretamos el acelerador. \n",
    "Otro ejemplo sería la fuerza magnética, que es la que hace que los imanes de nuestras neveras se queden sujetos y no se caigan.\n",
    "\n",
    "Por lo tanto, existen situaciones en las que varias fuerzas a la vez intentan cambiar el estado de movimiento de un cuerpo. Vamos a visualizar varios casos y tendrás que adivinar el movimiento que tendría el cuerpo en cada uno de ellos:"
   ]
  },
  {
   "cell_type": "markdown",
   "id": "3ad7c019",
   "metadata": {},
   "source": [
    "__Primer caso__\n",
    "\n",
    "Tenemos una bola roja de 0.25 kg de masa sujeta a una altura determinada del suelo azul y, por tanto, estará sufriendo la atracción de la Tierra, $F_g$, representada por el vector negro del dibujo. Para visualizarlo, ejecuta la siguiente celda."
   ]
  },
  {
   "cell_type": "code",
   "execution_count": 1,
   "id": "ef256cdf",
   "metadata": {},
   "outputs": [
    {
     "data": {
      "image/png": "[encoded data removed]",
      "text/plain": [
       "<Figure size 432x288 with 1 Axes>"
      ]
     },
     "metadata": {
      "needs_background": "light"
     },
     "output_type": "display_data"
    }
   ],
   "source": [
    "# Primero importamos las librerías de Python que vamos a necesitar. \n",
    "# En este caso, necesitaremos la librería matplotlib.pyplot para visualizar nuestro ejercicio. \n",
    "# Recuerda que podemos importarla con un nombre a nuestra elección para que sea más corto a la hora de\n",
    "# utilizarlo en nuestro código; en este caso, usamos el diminutivo plt.\n",
    "import matplotlib.pyplot as plt\n",
    "\n",
    "altura_bola = 4  # m\n",
    "\n",
    "plt.scatter(0, altura_bola, s=100, c='red') \n",
    "plt.axhline(y=0, lw=10)\n",
    "plt.quiver(0, altura_bola, 0, -2.45, scale_units='xy',color=['k'], scale=1)\n",
    "plt.text(0.005, 2.5, r'$F_g$', fontsize=20)\n",
    "plt.ylim(-0.2, 10)\n",
    "plt.grid()\n",
    "plt.show()"
   ]
  },
  {
   "cell_type": "markdown",
   "id": "61aae5cf",
   "metadata": {},
   "source": [
    "a) Calcula cuál es la fuerza que la gravedad ejerce sobre la bola."
   ]
  },
  {
   "cell_type": "code",
   "execution_count": 8,
   "id": "1de65b5f",
   "metadata": {},
   "outputs": [],
   "source": [
    "#  Escribe aquí tu código"
   ]
  },
  {
   "cell_type": "markdown",
   "id": "d9a1b4a4",
   "metadata": {},
   "source": [
    "b) ¿Qué sucederá si ejercemos una fuerza, $F_1$, de 4 Newtons en la misma dirección pero en sentido opuesto, es decir, en sentido positivo? \n",
    "\n",
    "Ejecuta primero la siguiente celda para visualizar el problema y contesta a la pregunta en la posterior celda."
   ]
  },
  {
   "cell_type": "code",
   "execution_count": 10,
   "id": "0566daa6",
   "metadata": {},
   "outputs": [
    {
     "data": {
      "image/png": "[encoded data removed]",
      "text/plain": [
       "<Figure size 432x288 with 1 Axes>"
      ]
     },
     "metadata": {
      "needs_background": "light"
     },
     "output_type": "display_data"
    }
   ],
   "source": [
    "plt.scatter(0, altura_bola, s=100, c='red') \n",
    "plt.axhline(y=0, lw=10)\n",
    "plt.quiver(0, altura_bola, 0, -2.45, scale_units='xy',color=['k'], scale=1)\n",
    "plt.quiver(0, altura_bola, 0, 4, scale_units='xy',color=['k'], scale=1)\n",
    "plt.text(0.005, 2.5, r'$F_g$', fontsize=20)\n",
    "plt.text(0.005, 5, r'$F_1$', fontsize=20)\n",
    "plt.ylim(-0.2, 10)\n",
    "plt.grid()\n",
    "plt.show()"
   ]
  },
  {
   "cell_type": "markdown",
   "id": "f813df14",
   "metadata": {},
   "source": [
    "---- _Pincha en esta celda y escribe aquí tu respuesta_ ----"
   ]
  },
  {
   "cell_type": "markdown",
   "id": "1f223337",
   "metadata": {},
   "source": [
    "## Tercer ejercicio\n",
    "\n",
    "\n",
    "En este último ejercicio vamos a calcular la fuerza neta, $F_N$, que se ejerce sobre un cuerpo como resultado de la suma de todas las fuerzas aplicadas. \n",
    "\n",
    "Como ejemplo, empezamos por el cálculo exacto del ejercicio anterior. En este caso, has de calcular:\n",
    "\n",
    "$F_N = F_g + F_1$"
   ]
  },
  {
   "cell_type": "code",
   "execution_count": null,
   "id": "52dd9af9",
   "metadata": {},
   "outputs": [],
   "source": [
    "#  Escribe aquí tu código"
   ]
  },
  {
   "cell_type": "markdown",
   "id": "05938ad4",
   "metadata": {},
   "source": [
    "Imagina que un coche de 2000 Kg de masa circula por una carretera recta y plana. Si la conductora pisa el pedal con una aceleración de $a = 0.275$ m/s²,\n",
    "\n",
    "¿Cuál es el valor de la fuerza motora, $F_m$, que conseguimos debido a la aceleración?"
   ]
  },
  {
   "cell_type": "code",
   "execution_count": null,
   "id": "5e53e812",
   "metadata": {},
   "outputs": [],
   "source": [
    "#  Escribe aquí tu código"
   ]
  },
  {
   "cell_type": "markdown",
   "id": "009f23dd",
   "metadata": {},
   "source": [
    "Sin embargo, la fuerza de rozamiento del pavimento es de $F_r = 300$ N en sentido opuesto a nuestra aceleración.\n",
    "\n",
    "Ejecuta la siguiente celda para visualizar el problema, donde el cuadrado verde hace las veces de coche. "
   ]
  },
  {
   "cell_type": "code",
   "execution_count": 3,
   "id": "2e75b3a7",
   "metadata": {},
   "outputs": [
    {
     "data": {
      "image/png": "[encoded data removed]",
      "text/plain": [
       "<Figure size 432x288 with 1 Axes>"
      ]
     },
     "metadata": {
      "needs_background": "light"
     },
     "output_type": "display_data"
    }
   ],
   "source": [
    "plt.scatter(0, 0.5, s=5000, c='green', marker='s') \n",
    "plt.axhline(y=0, lw=10)\n",
    "plt.quiver(0, 0.15, -3, 0, scale_units='xy',color=['k'], scale=1)\n",
    "plt.quiver(0, 0.5, 5.5, 0, scale_units='xy',color=['k'], scale=1)\n",
    "plt.text(-2, 0.3, r'$F_r$', fontsize=20)\n",
    "plt.text(2, 0.65, r'$F_m$', fontsize=20)\n",
    "plt.xlim(-5, 6)\n",
    "plt.ylim(-0.2, 3)\n",
    "\n",
    "plt.grid()\n",
    "plt.show()"
   ]
  },
  {
   "cell_type": "markdown",
   "id": "9839f5d2",
   "metadata": {},
   "source": [
    "¿Cuál es la fuerza neta que siente el coche, es decir, el resultado de la suma de fuerzas aplicadas?"
   ]
  },
  {
   "cell_type": "code",
   "execution_count": 20,
   "id": "05c0df8e",
   "metadata": {},
   "outputs": [],
   "source": [
    "#  Escribe aquí tu código"
   ]
  },
  {
   "cell_type": "markdown",
   "id": "17df2350",
   "metadata": {},
   "source": [
    "¿Conseguirá la conductora aumentar la velocidad, es decir, acelerar el coche?"
   ]
  },
  {
   "cell_type": "markdown",
   "id": "f6905fee",
   "metadata": {},
   "source": [
    "---- _Pincha en esta celda y escribe aquí tu respuesta_ ----"
   ]
  }
 ],
 "metadata": {
  "kernelspec": {
   "display_name": "Python 3 (ipykernel)",
   "language": "python",
   "name": "python3"
  },
  "language_info": {
   "codemirror_mode": {
    "name": "ipython",
    "version": 3
   },
   "file_extension": ".py",
   "mimetype": "text/x-python",
   "name": "python",
   "nbconvert_exporter": "python",
   "pygments_lexer": "ipython3",
   "version": "3.9.7"
  }
 },
 "nbformat": 4,
 "nbformat_minor": 5
}
